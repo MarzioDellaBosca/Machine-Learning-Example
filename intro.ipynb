{
 "cells": [
  {
   "cell_type": "markdown",
   "metadata": {},
   "source": [
    "## Introduzione al Machine Learning"
   ]
  },
  {
   "cell_type": "code",
   "execution_count": null,
   "metadata": {},
   "outputs": [],
   "source": [
    "import numpy as np\n",
    "# definizione di una variabile dizionario, le chiavi sono tuple intere di due elmenti e i valori sono interi\n",
    "dic = {(0,0): 0, (0,1): 1, (1,0): 2, (1,1): 3}\n",
    "\n",
    "# generazione di un array di n interi casuali tra 0 e 100\n",
    "def arrGen(n):\n",
    "    arr = np.random.randint(0, 101, n)\n",
    "    return arr\n",
    "\n",
    "# Calcolo della media di un array\n",
    "def media(arr):\n",
    "    somma = 0\n",
    "    for i in arr:\n",
    "        somma += i\n",
    "    return somma/len(arr)\n",
    "\n",
    "def newQuick(arr):\n",
    "    if len(arr) <= 1:\n",
    "        return arr\n",
    "    else:\n",
    "        pivot = int(media(arr))\n",
    "        left = []\n",
    "        right = []\n",
    "        for i in range(1, len(arr)):\n",
    "            if arr[i] < pivot:\n",
    "                left.append(arr[i])\n",
    "            else:\n",
    "                right.append(arr[i])\n",
    "        return newQuick(left) + [pivot] + newQuick(right)\n",
    "\n",
    "vet = arrGen(10)\n",
    "print(vet)\n",
    "print(\"\\n\\n\")\n",
    "print(newQuick(vet))\n"
   ]
  },
  {
   "cell_type": "code",
   "execution_count": null,
   "metadata": {},
   "outputs": [],
   "source": [
    "nums = list(range(10))\n",
    "nums.remove(5)\n",
    "nums.append(12)\n",
    "for i in nums:\n",
    "    if i % 2 == 0 and i != 0:\n",
    "       print(nums.index(i))\n",
    "print(nums)"
   ]
  },
  {
   "cell_type": "code",
   "execution_count": 34,
   "metadata": {},
   "outputs": [
    {
     "name": "stdout",
     "output_type": "stream",
     "text": [
      "{(0, 1): 0, (1, 2): 1, (2, 3): 2, (3, 4): 3, (4, 5): 4, (5, 6): 5, (6, 7): 6, (7, 8): 7, (8, 9): 8, (9, 10): 9}\n"
     ]
    }
   ],
   "source": [
    "# Creo diagonale matrice (dizionario) solo specificando la dimensione, primo elem da impostare a 0,0\n",
    "\n",
    "diagonaleMatrice = {(x, x + 1): x for x in range(10)}\n",
    "\n",
    "print(diagonaleMatrice)"
   ]
  }
 ],
 "metadata": {
  "kernelspec": {
   "display_name": "base",
   "language": "python",
   "name": "python3"
  },
  "language_info": {
   "codemirror_mode": {
    "name": "ipython",
    "version": 3
   },
   "file_extension": ".py",
   "mimetype": "text/x-python",
   "name": "python",
   "nbconvert_exporter": "python",
   "pygments_lexer": "ipython3",
   "version": "3.9.13"
  },
  "orig_nbformat": 4
 },
 "nbformat": 4,
 "nbformat_minor": 2
}
